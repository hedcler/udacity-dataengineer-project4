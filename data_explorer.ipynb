{
 "cells": [
  {
   "cell_type": "code",
   "execution_count": 1,
   "id": "cd4ca416-d5d9-41c0-bd89-49c65690c10e",
   "metadata": {},
   "outputs": [],
   "source": [
    "# pip install sparksql-magic"
   ]
  },
  {
   "cell_type": "code",
   "execution_count": 1,
   "id": "563e26a6-1ef7-4321-abfc-82f2c551fb98",
   "metadata": {},
   "outputs": [],
   "source": [
    "import os\n",
    "import json\n",
    "from pyspark.sql import SparkSession\n",
    "%load_ext sparksql_magic"
   ]
  },
  {
   "cell_type": "markdown",
   "id": "aa409e5d-3a2f-4e0e-96ae-da070873c26c",
   "metadata": {},
   "source": [
    "# Create Spark Session"
   ]
  },
  {
   "cell_type": "code",
   "execution_count": 2,
   "id": "c23407e4-7caf-441c-8fbd-8970d6afbe97",
   "metadata": {},
   "outputs": [],
   "source": [
    "spark = SparkSession\\\n",
    "    .builder\\\n",
    "    .config(\"spark.jars.packages\", \"org.apache.hadoop:hadoop-aws:2.7.0\")\\\n",
    "    .getOrCreate()"
   ]
  },
  {
   "cell_type": "code",
   "execution_count": 22,
   "id": "0da238da-5df4-41ec-a106-6767aca85930",
   "metadata": {},
   "outputs": [],
   "source": [
    "from pyspark.sql.types import StructType, StructField, StringType, DoubleType, IntegerType, DateType, TimestampType\n",
    "\n",
    "# define song schema\n",
    "song_schema = StructType([\n",
    "  StructField(\"artist_id\", StringType()),\n",
    "  StructField(\"artist_name\", StringType()),\n",
    "  StructField(\"artist_latitude\", DoubleType()),\n",
    "  StructField(\"artist_longitude\", DoubleType()),\n",
    "  StructField(\"artist_location\", StringType()),\n",
    "  StructField(\"song_id\", StringType()),\n",
    "  StructField(\"duration\", DoubleType()),\n",
    "  StructField(\"title\", StringType()),\n",
    "  StructField(\"year\", IntegerType()),\n",
    "  StructField(\"num_songs\", IntegerType())\n",
    "])\n",
    "\n",
    "# read song files\n",
    "df_song = spark.read.json(\"data/song_data/A/A/*/*.json\", schema=song_schema)\n",
    "df_song.createOrReplaceTempView(\"songs_dataset\")\n",
    "\n",
    "# define log schema\n",
    "log_schema = StructType([\n",
    "  StructField(\"artist\", StringType()),\n",
    "  StructField(\"auth\", StringType()),\n",
    "  StructField(\"firstName\", StringType()),\n",
    "  StructField(\"gender\", StringType()),\n",
    "  StructField(\"itemInSession\", IntegerType()),\n",
    "  StructField(\"lastName\", StringType()),\n",
    "  StructField(\"length\", DoubleType()),\n",
    "  StructField(\"level\", StringType()),\n",
    "  StructField(\"location\", StringType()),\n",
    "  StructField(\"method\", StringType()),\n",
    "  StructField(\"page\", StringType()),\n",
    "  StructField(\"registration\", DoubleType()),\n",
    "  StructField(\"sessionId\", IntegerType()),\n",
    "  StructField(\"song\", StringType()),\n",
    "  StructField(\"status\", IntegerType()),\n",
    "  StructField(\"ts\", DoubleType()),\n",
    "  StructField(\"userAgent\", StringType()),\n",
    "  StructField(\"userId\", StringType())\n",
    "])\n",
    "\n",
    "# read log files\n",
    "df_log = spark.read.json(\"data/log-data/*.json\", schema=log_schema)\n",
    "df_log.createOrReplaceTempView(\"logs_dataset\")"
   ]
  },
  {
   "cell_type": "code",
   "execution_count": 23,
   "id": "080af393-8765-405e-9210-9274e35a19bd",
   "metadata": {},
   "outputs": [
    {
     "data": {
      "text/html": [
       "<div>\n",
       "<style scoped>\n",
       "    .dataframe tbody tr th:only-of-type {\n",
       "        vertical-align: middle;\n",
       "    }\n",
       "\n",
       "    .dataframe tbody tr th {\n",
       "        vertical-align: top;\n",
       "    }\n",
       "\n",
       "    .dataframe thead th {\n",
       "        text-align: right;\n",
       "    }\n",
       "</style>\n",
       "<table border=\"1\" class=\"dataframe\">\n",
       "  <thead>\n",
       "    <tr style=\"text-align: right;\">\n",
       "      <th></th>\n",
       "      <th>start_time</th>\n",
       "      <th>year</th>\n",
       "      <th>month</th>\n",
       "      <th>user_id</th>\n",
       "      <th>level</th>\n",
       "      <th>song_id</th>\n",
       "      <th>artist_id</th>\n",
       "      <th>session_id</th>\n",
       "      <th>artist_location</th>\n",
       "      <th>user_agent</th>\n",
       "    </tr>\n",
       "  </thead>\n",
       "  <tbody>\n",
       "    <tr>\n",
       "      <th>0</th>\n",
       "      <td>2018-11-21 21:56:47.796</td>\n",
       "      <td>2018</td>\n",
       "      <td>11</td>\n",
       "      <td>15</td>\n",
       "      <td>paid</td>\n",
       "      <td>SOZCTXZ12AB0182364</td>\n",
       "      <td>AR5KOSW1187FB35FF4</td>\n",
       "      <td>818</td>\n",
       "      <td>Dubai UAE</td>\n",
       "      <td>\"Mozilla/5.0 (X11; Linux x86_64) AppleWebKit/5...</td>\n",
       "    </tr>\n",
       "  </tbody>\n",
       "</table>\n",
       "</div>"
      ],
      "text/plain": [
       "               start_time  year  month user_id level             song_id  \\\n",
       "0 2018-11-21 21:56:47.796  2018     11      15  paid  SOZCTXZ12AB0182364   \n",
       "\n",
       "            artist_id  session_id artist_location  \\\n",
       "0  AR5KOSW1187FB35FF4         818       Dubai UAE   \n",
       "\n",
       "                                          user_agent  \n",
       "0  \"Mozilla/5.0 (X11; Linux x86_64) AppleWebKit/5...  "
      ]
     },
     "execution_count": 23,
     "metadata": {},
     "output_type": "execute_result"
    }
   ],
   "source": [
    "spark.sql(\"\"\"\n",
    "    SELECT DISTINCT\n",
    "      to_timestamp(l.ts/1000) as start_time,\n",
    "      YEAR(to_timestamp(l.ts/1000)) as year,\n",
    "      MONTH(to_timestamp(l.ts/1000)) as month,\n",
    "      l.userId as user_id,\n",
    "      l.level as level,\n",
    "      s.song_id as song_id,\n",
    "      s.artist_id as artist_id,\n",
    "      l.sessionId as session_id,\n",
    "      s.artist_location as artist_location,\n",
    "      l.userAgent as user_agent\n",
    "    FROM songs_dataset s\n",
    "    JOIN logs_dataset l\n",
    "      ON s.title = l.song \n",
    "      AND s.artist_name = l.artist \n",
    "      AND s.duration = l.length\n",
    "    WHERE l.page = 'NextSong'\n",
    "    AND l.ts IS NOT NULL\n",
    "    AND l.userId IS NOT NULL\n",
    "    AND s.song_id IS NOT NULL\n",
    "  \"\"\").toPandas()"
   ]
  },
  {
   "cell_type": "markdown",
   "id": "db7387c2-4335-4d1b-bc0a-ccdcadd7a116",
   "metadata": {},
   "source": [
    "# Extracting Cubes"
   ]
  },
  {
   "cell_type": "code",
   "execution_count": 3,
   "id": "4c759ecd-9563-4849-b05b-e5ba46abac6e",
   "metadata": {},
   "outputs": [
    {
     "name": "stdout",
     "output_type": "stream",
     "text": [
      "root\n",
      " |-- user_id: string (nullable = true)\n",
      " |-- first_name: string (nullable = true)\n",
      " |-- last_name: string (nullable = true)\n",
      " |-- gender: string (nullable = true)\n",
      " |-- level: string (nullable = true)\n",
      "\n",
      "root\n",
      " |-- artist_id: string (nullable = true)\n",
      " |-- artist_name: string (nullable = true)\n",
      " |-- location: string (nullable = true)\n",
      " |-- latitude: double (nullable = true)\n",
      " |-- longitude: double (nullable = true)\n",
      "\n",
      "root\n",
      " |-- song_id: string (nullable = true)\n",
      " |-- title: string (nullable = true)\n",
      " |-- artist_id: string (nullable = true)\n",
      " |-- year: integer (nullable = true)\n",
      " |-- duration: double (nullable = true)\n",
      "\n",
      "root\n",
      " |-- start_time: timestamp (nullable = true)\n",
      " |-- hour: integer (nullable = true)\n",
      " |-- day: integer (nullable = true)\n",
      " |-- week: integer (nullable = true)\n",
      " |-- month: integer (nullable = true)\n",
      " |-- year: integer (nullable = true)\n",
      " |-- weekday: integer (nullable = true)\n",
      "\n",
      "root\n",
      " |-- start_time: timestamp (nullable = true)\n",
      " |-- year: integer (nullable = true)\n",
      " |-- month: integer (nullable = true)\n",
      " |-- user_id: string (nullable = true)\n",
      " |-- level: string (nullable = true)\n",
      " |-- song_id: string (nullable = true)\n",
      " |-- artist_id: string (nullable = true)\n",
      " |-- session_id: integer (nullable = true)\n",
      " |-- artist_location: string (nullable = true)\n",
      " |-- user_agent: string (nullable = true)\n",
      "\n"
     ]
    }
   ],
   "source": [
    "df_users = spark.read.parquet(\"spark-warehouse/users.parquet\")\n",
    "df_users.printSchema()\n",
    "df_users.createOrReplaceTempView(\"users\")\n",
    "\n",
    "df_artists = spark.read.parquet(\"spark-warehouse/artists.parquet\")\n",
    "df_artists.printSchema()\n",
    "df_artists.createOrReplaceTempView(\"artists\")\n",
    "\n",
    "df_songs = spark.read.parquet(\"spark-warehouse/songs.parquet\")\n",
    "df_songs.printSchema()\n",
    "df_songs.createOrReplaceTempView(\"songs\")\n",
    "\n",
    "df_times = spark.read.parquet(\"spark-warehouse/times.parquet\")\n",
    "df_times.printSchema()\n",
    "df_times.createOrReplaceTempView(\"times\")\n",
    "\n",
    "df_songplays = spark.read.parquet(\"spark-warehouse/songplays.parquet\")\n",
    "df_songplays.printSchema()\n",
    "df_songplays.createOrReplaceTempView(\"songplays\")"
   ]
  },
  {
   "cell_type": "markdown",
   "id": "543f96f7-9bfe-4666-8578-c22a6cef3a70",
   "metadata": {},
   "source": [
    "### Time table"
   ]
  },
  {
   "cell_type": "code",
   "execution_count": 6,
   "id": "8861ba6c-ac54-4945-aa1a-96b9d64ce73b",
   "metadata": {},
   "outputs": [
    {
     "name": "stdout",
     "output_type": "stream",
     "text": [
      "cache dataframe with lazy load\n",
      "capture dataframe to local variable `results`\n"
     ]
    },
    {
     "data": {
      "text/html": [
       "<table><tr style=\"border-bottom: 1px solid\"><td style=\"font-weight: bold\">start_time</td><td style=\"font-weight: bold\">hour</td><td style=\"font-weight: bold\">day</td><td style=\"font-weight: bold\">week</td><td style=\"font-weight: bold\">month</td><td style=\"font-weight: bold\">year</td><td style=\"font-weight: bold\">weekday</td></tr><tr><td>2018-11-15 19:38:52.796000</td><td>19</td><td>15</td><td>46</td><td>11</td><td>2018</td><td>3</td></tr><tr><td>2018-11-21 01:16:52.796000</td><td>1</td><td>21</td><td>47</td><td>11</td><td>2018</td><td>2</td></tr><tr><td>2018-11-21 05:33:28.796000</td><td>5</td><td>21</td><td>47</td><td>11</td><td>2018</td><td>2</td></tr><tr><td>2018-11-21 09:26:12.796000</td><td>9</td><td>21</td><td>47</td><td>11</td><td>2018</td><td>2</td></tr><tr><td>2018-11-21 17:41:13.796000</td><td>17</td><td>21</td><td>47</td><td>11</td><td>2018</td><td>2</td></tr><tr><td>2018-11-21 19:16:24.796000</td><td>19</td><td>21</td><td>47</td><td>11</td><td>2018</td><td>2</td></tr><tr><td>2018-11-14 05:45:26.796000</td><td>5</td><td>14</td><td>46</td><td>11</td><td>2018</td><td>2</td></tr><tr><td>2018-11-14 07:00:15.796000</td><td>7</td><td>14</td><td>46</td><td>11</td><td>2018</td><td>2</td></tr><tr><td>2018-11-14 08:00:54.796000</td><td>8</td><td>14</td><td>46</td><td>11</td><td>2018</td><td>2</td></tr><tr><td>2018-11-14 10:57:23.796000</td><td>10</td><td>14</td><td>46</td><td>11</td><td>2018</td><td>2</td></tr></table>"
      ],
      "text/plain": [
       "<IPython.core.display.HTML object>"
      ]
     },
     "execution_count": 6,
     "metadata": {},
     "output_type": "execute_result"
    }
   ],
   "source": [
    "%%sparksql -c results\n",
    "    SELECT * FROM times LIMIT 10"
   ]
  },
  {
   "cell_type": "markdown",
   "id": "c4e8d097-6456-4f8e-b235-f98aeb3eab37",
   "metadata": {},
   "source": [
    "### Users table"
   ]
  },
  {
   "cell_type": "code",
   "execution_count": 5,
   "id": "d3c22539-ea69-410c-bf0c-46333d6a1b41",
   "metadata": {},
   "outputs": [
    {
     "name": "stdout",
     "output_type": "stream",
     "text": [
      "cache dataframe with lazy load\n",
      "capture dataframe to local variable `results`\n"
     ]
    },
    {
     "data": {
      "text/html": [
       "<table><tr style=\"border-bottom: 1px solid\"><td style=\"font-weight: bold\">user_id</td><td style=\"font-weight: bold\">first_name</td><td style=\"font-weight: bold\">last_name</td><td style=\"font-weight: bold\">gender</td><td style=\"font-weight: bold\">level</td></tr><tr><td>88</td><td>Mohammad</td><td>Rodriguez</td><td>M</td><td>free</td></tr><tr><td>88</td><td>Mohammad</td><td>Rodriguez</td><td>M</td><td>paid</td></tr><tr><td>75</td><td>Joseph</td><td>Gutierrez</td><td>M</td><td>free</td></tr><tr><td>69</td><td>Anabelle</td><td>Simpson</td><td>F</td><td>free</td></tr><tr><td>11</td><td>Christian</td><td>Porter</td><td>F</td><td>free</td></tr><tr><td>53</td><td>Celeste</td><td>Williams</td><td>F</td><td>free</td></tr><tr><td>77</td><td>Magdalene</td><td>Herman</td><td>F</td><td>free</td></tr><tr><td>89</td><td>Kynnedi</td><td>Sanchez</td><td>F</td><td>free</td></tr><tr><td>61</td><td>Samuel</td><td>Gonzalez</td><td>M</td><td>free</td></tr><tr><td>45</td><td>Dominick</td><td>Norris</td><td>M</td><td>free</td></tr></table>"
      ],
      "text/plain": [
       "<IPython.core.display.HTML object>"
      ]
     },
     "execution_count": 5,
     "metadata": {},
     "output_type": "execute_result"
    }
   ],
   "source": [
    "%%sparksql -c results\n",
    "    SELECT * FROM users LIMIT 10"
   ]
  },
  {
   "cell_type": "markdown",
   "id": "e6774ef0-0843-49fb-bb53-1fc5fe56beb9",
   "metadata": {},
   "source": [
    "### Artists table"
   ]
  },
  {
   "cell_type": "code",
   "execution_count": 7,
   "id": "cfef10d3-9e24-421e-83f1-e3dcd6f35b8d",
   "metadata": {},
   "outputs": [
    {
     "name": "stdout",
     "output_type": "stream",
     "text": [
      "cache dataframe with lazy load\n",
      "capture dataframe to local variable `results`\n"
     ]
    },
    {
     "data": {
      "text/html": [
       "<table><tr style=\"border-bottom: 1px solid\"><td style=\"font-weight: bold\">artist_id</td><td style=\"font-weight: bold\">artist_name</td><td style=\"font-weight: bold\">location</td><td style=\"font-weight: bold\">latitude</td><td style=\"font-weight: bold\">longitude</td></tr><tr><td>ARMAC4T1187FB3FA4C</td><td>The Dillinger Escape Plan</td><td>Morris Plains, NJ</td><td>40.82624</td><td>-74.47995</td></tr><tr><td>AROUOZZ1187B9ABE51</td><td>Willie Bobo</td><td>New York, NY [Spanish Harlem]</td><td>40.79195</td><td>-73.94512</td></tr><tr><td>AREBBGV1187FB523D2</td><td>Mike Jones (Featuring CJ_ Mello &amp; Lil&#x27; Bran)</td><td>Houston, TX</td><td>null</td><td>null</td></tr><tr><td>ARD842G1187B997376</td><td>Blue Rodeo</td><td>Toronto, Ontario, Canada</td><td>43.64856</td><td>-79.38533</td></tr><tr><td>AR0RCMP1187FB3F427</td><td>Billie Jo Spears</td><td>Beaumont, TX</td><td>30.08615</td><td>-94.10158</td></tr><tr><td>ARIG6O41187B988BDD</td><td>Richard Souther</td><td>United States</td><td>37.16793</td><td>-95.84502</td></tr><tr><td>AR10USD1187B99F3F1</td><td>Tweeterfriendly Music</td><td>Burlington, Ontario, Canada</td><td>null</td><td>null</td></tr><tr><td>ARGSJW91187B9B1D6B</td><td>JennyAnyKind</td><td>North Carolina</td><td>35.21962</td><td>-80.01955</td></tr><tr><td>ARAJPHH1187FB5566A</td><td>The Shangri-Las</td><td>Queens, NY</td><td>40.7038</td><td>-73.83168</td></tr><tr><td>ARMJAGH1187FB546F3</td><td>The Box Tops</td><td>Memphis, TN</td><td>35.14968</td><td>-90.04892</td></tr></table>"
      ],
      "text/plain": [
       "<IPython.core.display.HTML object>"
      ]
     },
     "execution_count": 7,
     "metadata": {},
     "output_type": "execute_result"
    }
   ],
   "source": [
    "%%sparksql -c results\n",
    "    SELECT * FROM artists LIMIT 10"
   ]
  },
  {
   "cell_type": "markdown",
   "id": "22c53106-68ff-4fb4-bf6a-5998b00f6732",
   "metadata": {},
   "source": [
    "### Songs table"
   ]
  },
  {
   "cell_type": "code",
   "execution_count": 8,
   "id": "e7b37493-f884-498d-817a-d7a770cf933c",
   "metadata": {},
   "outputs": [
    {
     "name": "stdout",
     "output_type": "stream",
     "text": [
      "cache dataframe with lazy load\n",
      "capture dataframe to local variable `results`\n"
     ]
    },
    {
     "data": {
      "text/html": [
       "<table><tr style=\"border-bottom: 1px solid\"><td style=\"font-weight: bold\">song_id</td><td style=\"font-weight: bold\">title</td><td style=\"font-weight: bold\">artist_id</td><td style=\"font-weight: bold\">year</td><td style=\"font-weight: bold\">duration</td></tr><tr><td>SONYPOM12A8C13B2D7</td><td>I Think My Wife Is Running Around On Me (Taco Hell)</td><td>ARDNS031187B9924F0</td><td>2005</td><td>186.48771</td></tr><tr><td>SOYMRWW12A6D4FAB14</td><td>The Moon And I (Ordinary Day Album Version)</td><td>ARKFYS91187B98E58F</td><td>0</td><td>267.7024</td></tr><tr><td>SOUDSGM12AC9618304</td><td>Insatiable (Instrumental Version)</td><td>ARNTLGG11E2835DDB9</td><td>0</td><td>266.39628</td></tr><tr><td>SOOLYAZ12A6701F4A6</td><td>Laws Patrolling (Album Version)</td><td>AREBBGV1187FB523D2</td><td>0</td><td>173.66159</td></tr><tr><td>SOBBUGU12A8C13E95D</td><td>Setting Fire to Sleeping Giants</td><td>ARMAC4T1187FB3FA4C</td><td>2004</td><td>207.77751</td></tr><tr><td>SOBLGCN12AB0183212</td><td>James (Hold The Ladder Steady)</td><td>AR47JEX1187B995D81</td><td>1985</td><td>124.86485</td></tr><tr><td>SOGNCJP12A58A80271</td><td>Do You Finally Need A Friend</td><td>ARB29H41187B98F0EF</td><td>1972</td><td>342.56934</td></tr><tr><td>SOGXHEG12AB018653E</td><td>It Makes No Difference Now</td><td>AR0RCMP1187FB3F427</td><td>1992</td><td>133.32853</td></tr><tr><td>SOBONFF12A6D4F84D8</td><td>Tonight Will Be Alright</td><td>ARIK43K1187B9AE54C</td><td>1986</td><td>307.3824</td></tr><tr><td>SOMJBYD12A6D4F8557</td><td>Keepin It Real (Skit)</td><td>ARD0S291187B9B7BF5</td><td>0</td><td>114.78159</td></tr></table>"
      ],
      "text/plain": [
       "<IPython.core.display.HTML object>"
      ]
     },
     "execution_count": 8,
     "metadata": {},
     "output_type": "execute_result"
    }
   ],
   "source": [
    "%%sparksql -c results\n",
    "    SELECT * FROM songs LIMIT 10"
   ]
  },
  {
   "cell_type": "markdown",
   "id": "522dd7b2-0509-4df8-8c05-f15145b4a0fd",
   "metadata": {},
   "source": [
    "### Songplays table"
   ]
  },
  {
   "cell_type": "code",
   "execution_count": 9,
   "id": "e549b72d-d893-41d6-a9b1-03892523fbe9",
   "metadata": {},
   "outputs": [
    {
     "name": "stdout",
     "output_type": "stream",
     "text": [
      "cache dataframe with lazy load\n",
      "capture dataframe to local variable `results`\n"
     ]
    },
    {
     "data": {
      "text/html": [
       "<table><tr style=\"border-bottom: 1px solid\"><td style=\"font-weight: bold\">start_time</td><td style=\"font-weight: bold\">year</td><td style=\"font-weight: bold\">month</td><td style=\"font-weight: bold\">user_id</td><td style=\"font-weight: bold\">level</td><td style=\"font-weight: bold\">song_id</td><td style=\"font-weight: bold\">artist_id</td><td style=\"font-weight: bold\">session_id</td><td style=\"font-weight: bold\">artist_location</td><td style=\"font-weight: bold\">user_agent</td></tr><tr><td>2018-11-21 21:56:47.796000</td><td>2018</td><td>11</td><td>15</td><td>paid</td><td>SOZCTXZ12AB0182364</td><td>AR5KOSW1187FB35FF4</td><td>818</td><td>Dubai UAE</td><td>&quot;Mozilla/5.0 (X11; Linux x86_64) AppleWebKit/537.36 (KHTML, like Gecko) Ubuntu Chromium/36.0.1985.125 Chrome/36.0.1985.125 Safari/537.36&quot;</td></tr></table>"
      ],
      "text/plain": [
       "<IPython.core.display.HTML object>"
      ]
     },
     "execution_count": 9,
     "metadata": {},
     "output_type": "execute_result"
    }
   ],
   "source": [
    "%%sparksql -c results\n",
    "    SELECT * FROM songplays LIMIT 10"
   ]
  },
  {
   "cell_type": "markdown",
   "id": "106e2afb-c621-465e-8389-7324bb25166e",
   "metadata": {},
   "source": [
    "### Users by level"
   ]
  },
  {
   "cell_type": "code",
   "execution_count": 23,
   "id": "16543918-dea8-4b20-88f8-5a0095c24529",
   "metadata": {},
   "outputs": [
    {
     "name": "stdout",
     "output_type": "stream",
     "text": [
      "cache dataframe with lazy load\n",
      "capture dataframe to local variable `results`\n"
     ]
    },
    {
     "data": {
      "text/html": [
       "<table><tr style=\"border-bottom: 1px solid\"><td style=\"font-weight: bold\">level</td><td style=\"font-weight: bold\">percentage</td></tr><tr><td>free</td><td>78.85</td></tr><tr><td>paid</td><td>21.15</td></tr></table>"
      ],
      "text/plain": [
       "<IPython.core.display.HTML object>"
      ]
     },
     "execution_count": 23,
     "metadata": {},
     "output_type": "execute_result"
    }
   ],
   "source": [
    "%%sparksql -c results\n",
    "    SELECT \n",
    "        DISTINCT level,\n",
    "        ROUND(COUNT(*) * 100.0 / SUM(COUNT(*)) OVER(), 2) as percentage\n",
    "    FROM users\n",
    "    GROUP BY level"
   ]
  },
  {
   "cell_type": "markdown",
   "id": "3f8dd348-f1be-4dec-acba-fc3b060e11a9",
   "metadata": {},
   "source": [
    "### Users by gender"
   ]
  },
  {
   "cell_type": "code",
   "execution_count": 24,
   "id": "60226403-8bad-448e-8c21-1d0830fe5fc4",
   "metadata": {},
   "outputs": [
    {
     "name": "stdout",
     "output_type": "stream",
     "text": [
      "cache dataframe with lazy load\n",
      "capture dataframe to local variable `results`\n"
     ]
    },
    {
     "data": {
      "text/html": [
       "<table><tr style=\"border-bottom: 1px solid\"><td style=\"font-weight: bold\">gender</td><td style=\"font-weight: bold\">percentage</td></tr><tr><td>F</td><td>57.69</td></tr><tr><td>M</td><td>42.31</td></tr></table>"
      ],
      "text/plain": [
       "<IPython.core.display.HTML object>"
      ]
     },
     "execution_count": 24,
     "metadata": {},
     "output_type": "execute_result"
    }
   ],
   "source": [
    "%%sparksql -c results\n",
    "    SELECT \n",
    "        DISTINCT gender,\n",
    "        ROUND(COUNT(*) * 100.0 / SUM(COUNT(*)) OVER(), 2) as percentage\n",
    "    FROM users\n",
    "    GROUP BY gender"
   ]
  },
  {
   "cell_type": "markdown",
   "id": "47fabc62-93d8-45fa-ae37-f5cc7ceb0383",
   "metadata": {},
   "source": [
    "### Songs by artists"
   ]
  },
  {
   "cell_type": "code",
   "execution_count": 25,
   "id": "ebee8611-549f-4d03-8382-11fde7748b97",
   "metadata": {},
   "outputs": [
    {
     "name": "stdout",
     "output_type": "stream",
     "text": [
      "cache dataframe with lazy load\n",
      "capture dataframe to local variable `results`\n",
      "only showing top 20 row(s)\n"
     ]
    },
    {
     "data": {
      "text/html": [
       "<table><tr style=\"border-bottom: 1px solid\"><td style=\"font-weight: bold\">artist_name</td><td style=\"font-weight: bold\">percentage</td></tr><tr><td>Clp</td><td>5.56</td></tr><tr><td>The Box Tops</td><td>2.78</td></tr><tr><td>Faye Adams</td><td>2.78</td></tr><tr><td>Richard Souther</td><td>2.78</td></tr><tr><td>Five Bolt Main</td><td>2.78</td></tr><tr><td>Mike Jones (Featuring CJ_ Mello &amp; Lil&#x27; Bran)</td><td>2.78</td></tr><tr><td>Terry Callier</td><td>2.78</td></tr><tr><td>Billie Jo Spears</td><td>2.78</td></tr><tr><td>Faiz Ali Faiz</td><td>2.78</td></tr><tr><td>Lionel Richie</td><td>2.78</td></tr><tr><td>JennyAnyKind</td><td>2.78</td></tr><tr><td>Gob</td><td>2.78</td></tr><tr><td>Willie Bobo</td><td>2.78</td></tr><tr><td>Alice Stuart</td><td>2.78</td></tr><tr><td>Bob Azzam</td><td>2.78</td></tr><tr><td>Jimmy Wakely</td><td>2.78</td></tr><tr><td>Tesla</td><td>2.78</td></tr><tr><td>Andy Andy</td><td>2.78</td></tr><tr><td>Jeff And Sheri Easter</td><td>2.78</td></tr><tr><td>Adam Ant</td><td>2.78</td></tr></table>"
      ],
      "text/plain": [
       "<IPython.core.display.HTML object>"
      ]
     },
     "execution_count": 25,
     "metadata": {},
     "output_type": "execute_result"
    }
   ],
   "source": [
    "%%sparksql -c results\n",
    "    SELECT \n",
    "        DISTINCT a.artist_name as artist_name,\n",
    "        ROUND(COUNT(*) * 100.0 / SUM(COUNT(*)) OVER(), 2) as percentage\n",
    "    FROM songs s\n",
    "    JOIN artists a ON a.artist_id = s.artist_id\n",
    "    GROUP BY artist_name"
   ]
  },
  {
   "cell_type": "markdown",
   "id": "eb588d1f-76b6-4475-864f-2bd00dcb5089",
   "metadata": {},
   "source": [
    "### Most executed songs"
   ]
  },
  {
   "cell_type": "code",
   "execution_count": 29,
   "id": "3981125d-c3d3-4c19-ad6a-9c53310948af",
   "metadata": {},
   "outputs": [
    {
     "name": "stdout",
     "output_type": "stream",
     "text": [
      "cache dataframe with lazy load\n",
      "capture dataframe to local variable `results`\n"
     ]
    },
    {
     "data": {
      "text/html": [
       "<table><tr style=\"border-bottom: 1px solid\"><td style=\"font-weight: bold\">executions</td><td style=\"font-weight: bold\">song_id</td><td style=\"font-weight: bold\">song_title</td><td style=\"font-weight: bold\">artist_name</td><td style=\"font-weight: bold\">song_year</td></tr><tr><td>1</td><td>SOZCTXZ12AB0182364</td><td>Setanta matins</td><td>Elena</td><td>0</td></tr></table>"
      ],
      "text/plain": [
       "<IPython.core.display.HTML object>"
      ]
     },
     "execution_count": 29,
     "metadata": {},
     "output_type": "execute_result"
    }
   ],
   "source": [
    "%%sparksql -c -l 100 results\n",
    "    SELECT \n",
    "        COUNT(sp.*) as executions,\n",
    "        s.song_id,\n",
    "        s.title as song_title,\n",
    "        a.artist_name,\n",
    "        s.year as song_year\n",
    "    FROM songplays sp\n",
    "    JOIN artists a ON a.artist_id = sp.artist_id\n",
    "    JOIN songs s ON s.song_id = sp.song_id\n",
    "    GROUP BY s.song_id, song_title, artist_name, song_year\n",
    "    ORDER BY executions DESC;"
   ]
  }
 ],
 "metadata": {
  "kernelspec": {
   "display_name": "Python 3",
   "language": "python",
   "name": "python3"
  },
  "language_info": {
   "codemirror_mode": {
    "name": "ipython",
    "version": 3
   },
   "file_extension": ".py",
   "mimetype": "text/x-python",
   "name": "python",
   "nbconvert_exporter": "python",
   "pygments_lexer": "ipython3",
   "version": "3.9.2"
  }
 },
 "nbformat": 4,
 "nbformat_minor": 5
}
